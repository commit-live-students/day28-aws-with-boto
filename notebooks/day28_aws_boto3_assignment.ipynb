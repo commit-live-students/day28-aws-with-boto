{
 "cells": [
  {
   "cell_type": "markdown",
   "metadata": {
    "collapsed": true
   },
   "source": [
    "### AWS Boto3 Assignment\n",
    "\n",
    "In this assignment, you'll be covering the most common AWS Boto3 examples required. Refer the official [Boto3 documentation](boto3.readthedocs.io) if you get stuck somewhere."
   ]
  },
  {
   "cell_type": "markdown",
   "metadata": {},
   "source": [
    "### Task 1: Write a function called myKeyPair() to generate a keypair for a session:\n",
    "\n",
    "- Accepts the following parameters:\n",
    "    * keypair_tag, name of the key pair\n",
    "    * region\n",
    "    * profile_name, the AWS Profile you want to use\n",
    "\n",
    "- Should return\n",
    "    * keypair (same as the keypair_tag you sent)"
   ]
  },
  {
   "cell_type": "code",
   "execution_count": 4,
   "metadata": {
    "collapsed": true
   },
   "outputs": [],
   "source": [
    "def myKeyPair(keypair_tag, region, profile_name):\n",
    "    \n",
    "    import boto3\n",
    "    \n",
    "    # EC2 Resource creation\n",
    "    sess = boto3.Session(profile_name=profile_name)\n",
    "    \n",
    "    ec2 = sess.resource('ec2')\n",
    "    response = ec2.create_key_pair(KeyName=keypair_tag)\n",
    "    \n",
    "    outfile = open('/home/pratos/.ssh/file1.pem','w')\n",
    "    KeyPairOut = str(response.key_material)\n",
    "    outfile.write(KeyPairOut)\n",
    "    \n",
    "    return keypair_tag"
   ]
  },
  {
   "cell_type": "code",
   "execution_count": 5,
   "metadata": {
    "collapsed": true
   },
   "outputs": [],
   "source": [
    "keypair = myKeyPair('demo', 'us-east-1', 'default')"
   ]
  },
  {
   "cell_type": "code",
   "execution_count": 6,
   "metadata": {},
   "outputs": [
    {
     "data": {
      "text/plain": [
       "'demo'"
      ]
     },
     "execution_count": 6,
     "metadata": {},
     "output_type": "execute_result"
    }
   ],
   "source": [
    "keypair"
   ]
  },
  {
   "cell_type": "markdown",
   "metadata": {},
   "source": [
    "### Task 2: Write a function called myInstanceCreator():\n",
    "\n",
    "- Accepts the following parameters:\n",
    "    * profile_name\n",
    "    * region\n",
    "    * min_count, minumum number of instances\n",
    "    * max_count, maximum number of instances\n",
    "    * keypair\n",
    "    * instance type\n",
    "    * disksize\n",
    "    * ami-id\n",
    "\n",
    "- Should return\n",
    "    * instance ids"
   ]
  },
  {
   "cell_type": "code",
   "execution_count": 11,
   "metadata": {},
   "outputs": [],
   "source": [
    "def myInstanceCreator(profile_name, region, min_count, max_count, keypair, instance_type, disksize, ami_id):\n",
    "    import boto3\n",
    "    \n",
    "    # EC2 Resource creation\n",
    "    sess = boto3.Session(profile_name=profile_name)\n",
    "    \n",
    "    ec2 = sess.resource('ec2')\n",
    "    print(\"Session to access EC2 resources has been created...\")\n",
    "    \n",
    "    print(\"Creating the EC2 instances...\")\n",
    "    dl_instance = ec2.create_instances(ImageId=ami_id, \n",
    "                                            MinCount=min_count, #Minimum number of instances \n",
    "                                            MaxCount=max_count, #Maximum number of instances \n",
    "                                            KeyName=keypair, \n",
    "                                            InstanceType=instance_type,\n",
    "                                            BlockDeviceMappings=[{\"DeviceName\": \"/dev/sda1\",\"Ebs\" : \\\n",
    "                                                                  { \"VolumeSize\" : disksize, \\\n",
    "                                                                    \"VolumeType\" : \"standard\"}}],\n",
    "                                          ) \n",
    "    \n",
    "    print\n",
    "    return(dl_instance)"
   ]
  },
  {
   "cell_type": "code",
   "execution_count": 12,
   "metadata": {},
   "outputs": [
    {
     "name": "stdout",
     "output_type": "stream",
     "text": [
      "Session to access EC2 resources has been created...\n",
      "Creating the EC2 instances...\n"
     ]
    }
   ],
   "source": [
    "instance_ids = myInstanceCreator(profile_name='default', region='us-east-1', min_count=1, max_count=1, \\\n",
    "                                keypair=keypair, instance_type='t2.micro', disksize=20, ami_id='ami-e47723f2')"
   ]
  },
  {
   "cell_type": "code",
   "execution_count": 17,
   "metadata": {},
   "outputs": [
    {
     "data": {
      "text/plain": [
       "[ec2.Instance(id='i-043a2363065353b33')]"
      ]
     },
     "execution_count": 17,
     "metadata": {},
     "output_type": "execute_result"
    }
   ],
   "source": [
    "instance_ids"
   ]
  },
  {
   "cell_type": "markdown",
   "metadata": {},
   "source": [
    "### Task 3: List the number of EC2 instances in a region by creating function, myInstanceList()\n",
    "\n",
    "- Accepts the following parameters:\n",
    "    * region\n",
    "    * profile_name\n",
    "    \n",
    "- Should return\n",
    "    * list of instance ids"
   ]
  },
  {
   "cell_type": "code",
   "execution_count": 21,
   "metadata": {
    "collapsed": true
   },
   "outputs": [],
   "source": [
    "def myInstanceList(profile_name):\n",
    "    import boto3\n",
    "    \n",
    "    # EC2 Resource creation\n",
    "    sess = boto3.Session(profile_name=profile_name)\n",
    "    \n",
    "    ec2 = sess.resource('ec2')\n",
    "    instances = ec2.instances.filter(\n",
    "    Filters=[{'Name': 'instance-state-name', 'Values': ['running']}])\n",
    "    \n",
    "    instance_ids = []\n",
    "    for instance in instances:\n",
    "        instance_ids.append(instance.id)\n",
    "    \n",
    "    return instance_ids"
   ]
  },
  {
   "cell_type": "code",
   "execution_count": 22,
   "metadata": {},
   "outputs": [],
   "source": [
    "instance_ids = myInstanceList('default')"
   ]
  },
  {
   "cell_type": "code",
   "execution_count": 23,
   "metadata": {},
   "outputs": [
    {
     "data": {
      "text/plain": [
       "['i-08b0593cb0cb54f5e']"
      ]
     },
     "execution_count": 23,
     "metadata": {},
     "output_type": "execute_result"
    }
   ],
   "source": [
    "instance_ids"
   ]
  },
  {
   "cell_type": "markdown",
   "metadata": {},
   "source": [
    "### Task 3: Write a function called myInstanceOptions():\n",
    "\n",
    "- Accepts the following parameters:\n",
    "    * list of instance ids\n",
    "    * action, the operation to be performed on the instance: \"stop\", \"start\", \"terminate\", \"reboot\"\n",
    " \n",
    "- Should return\n",
    "    * HTTP Response from AWS"
   ]
  },
  {
   "cell_type": "code",
   "execution_count": 31,
   "metadata": {
    "collapsed": true
   },
   "outputs": [],
   "source": [
    "def myInstanceOptions(profile_name, instance_ids, action):\n",
    "    import boto3\n",
    "    \n",
    "    # EC2 Resource creation\n",
    "    sess = boto3.Session(profile_name=profile_name)\n",
    "    \n",
    "    ec2_client = sess.client('ec2')\n",
    "    final_response = None\n",
    "    \n",
    "    if action.lower() == \"start\":\n",
    "        try:\n",
    "            print(\"Starting the instances again...\")\n",
    "            response = ec2_client.start_instances(InstanceIds=instance_ids, DryRun=False)\n",
    "            final_response = response\n",
    "        except ClientError as e:\n",
    "            print(e)\n",
    "    elif action.lower() == \"stop\":\n",
    "        try:\n",
    "            print(\"Stopping the instances...\")\n",
    "            response = ec2_client.stop_instances(InstanceIds=instance_ids, DryRun=False)\n",
    "            final_response = response\n",
    "        except ClientError as e:\n",
    "            print(e)\n",
    "    elif action.lower() == \"terminate\":\n",
    "        try:\n",
    "            print(\"Terminating the instances...\")\n",
    "            response = ec2_client.terminate_instances(InstanceIds=instance_ids, DryRun=False)\n",
    "            final_response = response\n",
    "        except ClientError as e:\n",
    "            print(\"Error: {}\".format(e))\n",
    "    elif action.lower() == \"reboot\":\n",
    "        try:\n",
    "            print(\"Rebooting the instances...\")\n",
    "            response = ec2_client.reboot_instances(InstanceIds=instance_ids, DryRun=False)\n",
    "            final_response = response\n",
    "        except ClientError as e:\n",
    "            print(\"Error: {}\".format(e))\n",
    "            \n",
    "    return final_response"
   ]
  },
  {
   "cell_type": "code",
   "execution_count": 32,
   "metadata": {},
   "outputs": [
    {
     "name": "stdout",
     "output_type": "stream",
     "text": [
      "Starting the instances again...\n"
     ]
    },
    {
     "data": {
      "text/plain": [
       "{'ResponseMetadata': {'HTTPHeaders': {'content-length': '540',\n",
       "   'content-type': 'text/xml;charset=UTF-8',\n",
       "   'date': 'Sun, 10 Sep 2017 13:32:30 GMT',\n",
       "   'server': 'AmazonEC2'},\n",
       "  'HTTPStatusCode': 200,\n",
       "  'RequestId': '71176c44-7f89-4bd8-a16d-9ec431ffda89',\n",
       "  'RetryAttempts': 0},\n",
       " u'StoppingInstances': [{u'CurrentState': {u'Code': 64, u'Name': 'stopping'},\n",
       "   u'InstanceId': 'i-08b0593cb0cb54f5e',\n",
       "   u'PreviousState': {u'Code': 16, u'Name': 'running'}}]}"
      ]
     },
     "execution_count": 32,
     "metadata": {},
     "output_type": "execute_result"
    }
   ],
   "source": [
    "myInstanceOptions('default', instance_ids, \"Stop\")"
   ]
  },
  {
   "cell_type": "markdown",
   "metadata": {},
   "source": [
    "### Task 4: Creating or Delete an S3 bucket using function, myManageBucket():\n",
    "\n",
    "- Accepts the following parameters:\n",
    "    * profile_name,  the AWS Profile you want to use\n",
    "    * bucket_name\n",
    "    * action, the operation to be performed: \"create\", \"delete\"\n",
    " \n",
    "- Should return\n",
    "    * HTTP Response from AWS"
   ]
  },
  {
   "cell_type": "code",
   "execution_count": 33,
   "metadata": {
    "collapsed": true
   },
   "outputs": [],
   "source": [
    "def myManageBucket(profile_name, bucket_name, action):\n",
    "    import boto3\n",
    "    \n",
    "    # EC2 Resource creation\n",
    "    sess = boto3.Session(profile_name=profile_name)\n",
    "    \n",
    "    response = None\n",
    "    \n",
    "    if action.lower() == \"create\":\n",
    "        s3 = sess.client('s3')\n",
    "        \n",
    "        print(\"Creating an S3 bucket...\")\n",
    "        response = s3.create_bucket(Bucket=bucket_name)\n",
    "    elif action.lower() == \"delete\":\n",
    "        s3 = sess.resource('s3')\n",
    "        \n",
    "        print(\"Deleting the bucket\")\n",
    "        for key in bucket.objects.all():\n",
    "            key.delete()\n",
    "            print(\"{} deleted...\".format(key))\n",
    "\n",
    "        response = bucket.delete()\n",
    "    \n",
    "    return (response)"
   ]
  },
  {
   "cell_type": "code",
   "execution_count": 40,
   "metadata": {},
   "outputs": [
    {
     "name": "stdout",
     "output_type": "stream",
     "text": [
      "Creating an S3 bucket...\n"
     ]
    },
    {
     "data": {
      "text/plain": [
       "{u'Location': '/greyatom-demo',\n",
       " 'ResponseMetadata': {'HTTPHeaders': {'content-length': '0',\n",
       "   'date': 'Sun, 10 Sep 2017 14:01:38 GMT',\n",
       "   'location': '/greyatom-demo',\n",
       "   'server': 'AmazonS3',\n",
       "   'x-amz-id-2': 'gBh/sjw3JKDKa6QO5gSvWclCnC5N+2Lnj80AKKZMIO5JYxdWOBjDU1fhappWQr9HVrtNrvd9gy4=',\n",
       "   'x-amz-request-id': '9660C3613FEFFCE1'},\n",
       "  'HTTPStatusCode': 200,\n",
       "  'HostId': 'gBh/sjw3JKDKa6QO5gSvWclCnC5N+2Lnj80AKKZMIO5JYxdWOBjDU1fhappWQr9HVrtNrvd9gy4=',\n",
       "  'RequestId': '9660C3613FEFFCE1',\n",
       "  'RetryAttempts': 0}}"
      ]
     },
     "execution_count": 40,
     "metadata": {},
     "output_type": "execute_result"
    }
   ],
   "source": [
    "myManageBucket('default', 'greyatom-demo', 'create')"
   ]
  },
  {
   "cell_type": "markdown",
   "metadata": {},
   "source": [
    "### Task 5: Performing add, delete on S3, myBucketOperations():\n",
    "\n",
    "- Accepts the following parameters:\n",
    "    * profile_name,  the AWS Profile you want to use\n",
    "    * bucket_name\n",
    "    * list_of_files, it's default value is __None__\n",
    "    * action, the operation to be performed: \"upload\", \"download\"\n",
    " \n",
    "- Should return\n",
    "    * List of the files present in the bucket after upload"
   ]
  },
  {
   "cell_type": "code",
   "execution_count": 74,
   "metadata": {},
   "outputs": [],
   "source": [
    "def myBucketOperations(profile_name, bucket_name, action, list_of_files=None):\n",
    "    import re\n",
    "    import boto3\n",
    "    \n",
    "    # EC2 Resource creation\n",
    "    sess = boto3.Session(profile_name=profile_name)\n",
    "    \n",
    "    response = []\n",
    "    \n",
    "    if action.lower() == \"download\":\n",
    "        bucket_name = bucket_name\n",
    "        key = list_of_files\n",
    "\n",
    "        s3 = sess.client('s3')\n",
    "\n",
    "        for filename in list_of_files:\n",
    "            filename_final = re.split(r'/', filename)\n",
    "            print(\"Downloading file: {}\".format(filename_final[len(filename_final)-1]))\n",
    "            s3.download_file(bucket_name, filename_final[len(filename_final)-1]), filename\n",
    "            \n",
    "            s3_resource = boto3.resource('s3')\n",
    "\n",
    "            my_bucket = s3_resource.Bucket(bucket_name)\n",
    "\n",
    "            for obj in my_bucket.objects.all():\n",
    "                response.append(obj.key)\n",
    "        \n",
    "    elif action.lower() == \"upload\":\n",
    "        bucket_name = bucket_name\n",
    "        key = list_of_files\n",
    "\n",
    "        s3 = sess.client('s3')\n",
    "        \n",
    "        for filename in list_of_files:            \n",
    "            filename_final = re.split(r'/', filename)\n",
    "            print(\"Uploading file: {}\".format(filename_final[len(filename_final)-1]))\n",
    "            response.append(s3.upload_file(filename, bucket_name, filename_final[len(filename_final)-1]))\n",
    "        \n",
    "        s3_resource = boto3.resource('s3')\n",
    "\n",
    "        my_bucket = s3_resource.Bucket(bucket_name)\n",
    "\n",
    "        for obj in my_bucket.objects.all():\n",
    "            response.append(obj.key)\n",
    "            \n",
    "    return(response)"
   ]
  },
  {
   "cell_type": "code",
   "execution_count": 75,
   "metadata": {},
   "outputs": [],
   "source": [
    "import glob\n",
    "list_of_files = glob.glob('/home/pratos/greyatom_final/day29_machine_learning_in_production_one/data/*.csv')"
   ]
  },
  {
   "cell_type": "code",
   "execution_count": 76,
   "metadata": {},
   "outputs": [
    {
     "data": {
      "text/plain": [
       "['/home/pratos/greyatom_final/day29_machine_learning_in_production_one/data/energy_efficiency.csv',\n",
       " '/home/pratos/greyatom_final/day29_machine_learning_in_production_one/data/boston.csv']"
      ]
     },
     "execution_count": 76,
     "metadata": {},
     "output_type": "execute_result"
    }
   ],
   "source": [
    "list_of_files"
   ]
  },
  {
   "cell_type": "code",
   "execution_count": 77,
   "metadata": {},
   "outputs": [
    {
     "name": "stdout",
     "output_type": "stream",
     "text": [
      "Uploading file: energy_efficiency.csv\n",
      "Uploading file: boston.csv\n"
     ]
    },
    {
     "data": {
      "text/plain": [
       "[None, None, u'boston.csv', u'energy_efficiency.csv']"
      ]
     },
     "execution_count": 77,
     "metadata": {},
     "output_type": "execute_result"
    }
   ],
   "source": [
    "myBucketOperations('default', 'greyatom-demo', \"upload\", list_of_files)"
   ]
  },
  {
   "cell_type": "code",
   "execution_count": null,
   "metadata": {
    "collapsed": true
   },
   "outputs": [],
   "source": []
  }
 ],
 "metadata": {
  "kernelspec": {
   "display_name": "Python 2",
   "language": "python",
   "name": "python2"
  },
  "language_info": {
   "codemirror_mode": {
    "name": "ipython",
    "version": 2
   },
   "file_extension": ".py",
   "mimetype": "text/x-python",
   "name": "python",
   "nbconvert_exporter": "python",
   "pygments_lexer": "ipython2",
   "version": "2.7.13"
  },
  "widgets": {
   "state": {},
   "version": "1.1.2"
  }
 },
 "nbformat": 4,
 "nbformat_minor": 2
}
