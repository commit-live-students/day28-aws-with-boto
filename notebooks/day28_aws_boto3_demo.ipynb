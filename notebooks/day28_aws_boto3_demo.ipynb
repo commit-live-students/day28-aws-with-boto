{
 "cells": [
  {
   "cell_type": "markdown",
   "metadata": {
    "collapsed": true
   },
   "source": [
    "### Working with `boto3` - Demo"
   ]
  },
  {
   "cell_type": "code",
   "execution_count": 1,
   "metadata": {
    "collapsed": true
   },
   "outputs": [],
   "source": [
    "import boto3\n",
    "import pandas as pd\n",
    "import datetime"
   ]
  },
  {
   "cell_type": "markdown",
   "metadata": {
    "collapsed": true
   },
   "source": [
    "We need to create a session to use our default profile we created earlier. (Change the name, if you have named it otherwise)"
   ]
  },
  {
   "cell_type": "code",
   "execution_count": 2,
   "metadata": {
    "collapsed": true
   },
   "outputs": [],
   "source": [
    "sess = boto3.Session(profile_name='default')"
   ]
  },
  {
   "cell_type": "markdown",
   "metadata": {},
   "source": [
    "To make sure we are in the profile that we want, we'll print the details."
   ]
  },
  {
   "cell_type": "code",
   "execution_count": 3,
   "metadata": {},
   "outputs": [
    {
     "name": "stdout",
     "output_type": "stream",
     "text": [
      "The AWS profile active is default\n",
      "The session active region is us-east-1\n"
     ]
    }
   ],
   "source": [
    "print(\"The AWS profile active is {}\".format(sess.profile_name))\n",
    "print(\"The session active region is {}\".format(sess.region_name))"
   ]
  },
  {
   "cell_type": "markdown",
   "metadata": {},
   "source": [
    "Since we need to interact with EC2 instances, we create the ec2 object as below: "
   ]
  },
  {
   "cell_type": "code",
   "execution_count": 4,
   "metadata": {
    "collapsed": true
   },
   "outputs": [],
   "source": [
    "ec2 = sess.resource('ec2')"
   ]
  },
  {
   "cell_type": "markdown",
   "metadata": {},
   "source": [
    "### 1. Create `EC2` instance using `boto3`"
   ]
  },
  {
   "cell_type": "markdown",
   "metadata": {},
   "source": [
    "- First thing before creating any instance is to create `KeyPair` assigned to that instance."
   ]
  },
  {
   "cell_type": "code",
   "execution_count": 6,
   "metadata": {
    "collapsed": true
   },
   "outputs": [],
   "source": [
    "response = ec2.create_key_pair(KeyName='demo2')"
   ]
  },
  {
   "cell_type": "code",
   "execution_count": 8,
   "metadata": {
    "collapsed": true
   },
   "outputs": [],
   "source": [
    "print(\"The response recieved is {}\".format(response))"
   ]
  },
  {
   "cell_type": "markdown",
   "metadata": {},
   "source": [
    "- Saving the key to `.pem file` to local system."
   ]
  },
  {
   "cell_type": "code",
   "execution_count": 9,
   "metadata": {},
   "outputs": [
    {
     "data": {
      "text/plain": [
       "1670"
      ]
     },
     "execution_count": 9,
     "metadata": {},
     "output_type": "execute_result"
    }
   ],
   "source": [
    "outfile = open('/home/pratos/.ssh/file1.pem','w')\n",
    "KeyPairOut = str(response.key_material)\n",
    "outfile.write(KeyPairOut)"
   ]
  },
  {
   "cell_type": "code",
   "execution_count": 9,
   "metadata": {},
   "outputs": [
    {
     "name": "stdout",
     "output_type": "stream",
     "text": [
      "file1.pem\t\t   google_compute_known_hosts  id_rsa_azure.pub\r\n",
      "file.pem\t\t   greyatom.pem\t\t       id_rsa.pub\r\n",
      "google_compute_engine\t   id_rsa\t\t       known_hosts\r\n",
      "google_compute_engine.pub  id_rsa_azure\t\t       webapp-a87226add156.json\r\n"
     ]
    }
   ],
   "source": [
    "!ls ~/.ssh/"
   ]
  },
  {
   "cell_type": "markdown",
   "metadata": {},
   "source": [
    "- Creating an instance using a Deep Learning AMI\n",
    "\n",
    "Using Amazon's Deep Learning AMI [us-east-1 : ami-e47723f2] ([Link](https://aws.amazon.com/marketplace/pp/B01M0AXXQB))"
   ]
  },
  {
   "cell_type": "code",
   "execution_count": 10,
   "metadata": {
    "collapsed": true
   },
   "outputs": [],
   "source": [
    "dl_instance1 = ec2.create_instances(ImageId='ami-e47723f2', \n",
    "                                    MinCount=1, #Minimum number of instances \n",
    "                                    MaxCount=1, #Maximum number of instances\n",
    "                                    KeyName=\"demo1\", #Key that we generated earlier\n",
    "                                    InstanceType=\"t2.micro\") "
   ]
  },
  {
   "cell_type": "markdown",
   "metadata": {},
   "source": [
    "__NOTE:__ Use the AMI Image that is specific for the region. Also, keys generated are for a specific region. Keys from one region are not transferrable to other regions, you'll get errors (Key not available).\n",
    "\n",
    "For the next set of instructions, we need to get the instance id, follow the steps to get one:"
   ]
  },
  {
   "cell_type": "code",
   "execution_count": 11,
   "metadata": {},
   "outputs": [
    {
     "name": "stdout",
     "output_type": "stream",
     "text": [
      "The instance id: i-0e1ae1bb317f7b8f2\n"
     ]
    }
   ],
   "source": [
    "print(\"The instance id: {}\".format(dl_instance1[0].id))"
   ]
  },
  {
   "cell_type": "markdown",
   "metadata": {},
   "source": [
    "### 2. Stop, Start & Reboot the EC2 instance"
   ]
  },
  {
   "cell_type": "markdown",
   "metadata": {},
   "source": [
    "There are two modes in which we can execute: `start_instances` & `stop_instances`:\n",
    "\n",
    "- `DryRun=True`: Dry run to verify whether the AWS account executing the action has permissions to do it.\n",
    "- `DryRun=False`: AWS account executing the action has full permissions to do it & actual execution happens.\n",
    "\n",
    "Let's try it out, since we have created this EC2 instance we will have full permissions:"
   ]
  },
  {
   "cell_type": "code",
   "execution_count": 12,
   "metadata": {
    "collapsed": true
   },
   "outputs": [],
   "source": [
    "ec2_client = boto3.client('ec2')"
   ]
  },
  {
   "cell_type": "code",
   "execution_count": 13,
   "metadata": {
    "collapsed": true
   },
   "outputs": [],
   "source": [
    "instance_id = dl_instance1[0].id"
   ]
  },
  {
   "cell_type": "markdown",
   "metadata": {},
   "source": [
    "__We will try to stop and start the instance, with `DryRun=False`:__"
   ]
  },
  {
   "cell_type": "code",
   "execution_count": 16,
   "metadata": {},
   "outputs": [
    {
     "name": "stdout",
     "output_type": "stream",
     "text": [
      "{'StoppingInstances': [{'PreviousState': {'Name': 'running', 'Code': 16}, 'InstanceId': 'i-08b0593cb0cb54f5e', 'CurrentState': {'Name': 'stopping', 'Code': 64}}], 'ResponseMetadata': {'RequestId': '4556624d-f9c0-4da4-8313-fa20ed2ab33d', 'HTTPStatusCode': 200, 'HTTPHeaders': {'content-type': 'text/xml;charset=UTF-8', 'server': 'AmazonEC2', 'date': 'Sat, 09 Sep 2017 20:11:02 GMT', 'content-length': '540'}, 'RetryAttempts': 0}}\n"
     ]
    }
   ],
   "source": [
    "try:\n",
    "    response = ec2_client.stop_instances(InstanceIds=[instance_id], DryRun=False)\n",
    "    print(response)\n",
    "except ClientError as e:\n",
    "    print(e)"
   ]
  },
  {
   "cell_type": "markdown",
   "metadata": {},
   "source": [
    "__Starting the instance again:__\n",
    "\n",
    "(NOTE: Wait till the instance is stopped/started before starting/stopping)"
   ]
  },
  {
   "cell_type": "code",
   "execution_count": 29,
   "metadata": {},
   "outputs": [
    {
     "name": "stdout",
     "output_type": "stream",
     "text": [
      "{'ResponseMetadata': {'RequestId': 'ae6918a9-5f33-41a1-ba46-984d93babb8c', 'HTTPStatusCode': 200, 'HTTPHeaders': {'content-type': 'text/xml;charset=UTF-8', 'server': 'AmazonEC2', 'date': 'Sat, 09 Sep 2017 20:24:17 GMT', 'content-length': '540'}, 'RetryAttempts': 0}, 'StartingInstances': [{'PreviousState': {'Name': 'stopped', 'Code': 80}, 'InstanceId': 'i-08b0593cb0cb54f5e', 'CurrentState': {'Name': 'pending', 'Code': 0}}]}\n"
     ]
    }
   ],
   "source": [
    "try:\n",
    "    response = ec2_client.start_instances(InstanceIds=[instance_id], DryRun=False)\n",
    "    print(response)\n",
    "except ClientError as e:\n",
    "    print(e)"
   ]
  },
  {
   "cell_type": "markdown",
   "metadata": {},
   "source": [
    "__Rebooting the instance:__\n",
    "\n",
    "We do have the same attribute, `DryRun` for __rebooting__ the instances:\n",
    "\n",
    "(We'll directly reboot the instances)"
   ]
  },
  {
   "cell_type": "code",
   "execution_count": 33,
   "metadata": {},
   "outputs": [
    {
     "name": "stdout",
     "output_type": "stream",
     "text": [
      "Success {'ResponseMetadata': {'HTTPHeaders': {'transfer-encoding': 'chunked', 'vary': 'Accept-Encoding', 'date': 'Sat, 09 Sep 2017 14:25:49 GMT', 'server': 'AmazonEC2', 'content-type': 'text/xml;charset=UTF-8'}, 'RetryAttempts': 0, 'RequestId': '9fdaa44d-e6d9-43ae-a7ce-b9e04d8813e8', 'HTTPStatusCode': 200}}\n"
     ]
    }
   ],
   "source": [
    "try:\n",
    "    response = ec2_client.reboot_instances(InstanceIds=[instance_id], DryRun=False)\n",
    "    print(\"Success: {}\".format(response))\n",
    "except ClientError as e:\n",
    "    print(\"Error: {}\".format(e))"
   ]
  },
  {
   "cell_type": "markdown",
   "metadata": {},
   "source": [
    "### 3. Terminate an EC2 Instance\n",
    "\n",
    "Terminating EC2 instance using `client` interface."
   ]
  },
  {
   "cell_type": "code",
   "execution_count": 14,
   "metadata": {},
   "outputs": [
    {
     "name": "stdout",
     "output_type": "stream",
     "text": [
      "Success: {u'TerminatingInstances': [{u'InstanceId': 'i-0e1ae1bb317f7b8f2', u'CurrentState': {u'Code': 32, u'Name': 'shutting-down'}, u'PreviousState': {u'Code': 0, u'Name': 'pending'}}], 'ResponseMetadata': {'RetryAttempts': 0, 'HTTPStatusCode': 200, 'RequestId': '80c981fc-2e87-487e-9aa6-6ecc749b4ade', 'HTTPHeaders': {'transfer-encoding': 'chunked', 'vary': 'Accept-Encoding', 'server': 'AmazonEC2', 'content-type': 'text/xml;charset=UTF-8', 'date': 'Sun, 10 Sep 2017 08:20:47 GMT'}}}\n"
     ]
    }
   ],
   "source": [
    "try:\n",
    "    response = ec2_client.terminate_instances(InstanceIds=[instance_id], DryRun=False)\n",
    "    print(\"Success: {}\".format(response))\n",
    "except ClientError as e:\n",
    "    print(\"Error: {}\".format(e))"
   ]
  },
  {
   "cell_type": "markdown",
   "metadata": {},
   "source": [
    "### 4. Creating S3 Buckets"
   ]
  },
  {
   "cell_type": "code",
   "execution_count": 16,
   "metadata": {
    "collapsed": true
   },
   "outputs": [],
   "source": [
    "import boto3\n",
    "\n",
    "s3 = boto3.client('s3')"
   ]
  },
  {
   "cell_type": "code",
   "execution_count": 38,
   "metadata": {},
   "outputs": [
    {
     "data": {
      "text/plain": [
       "{'Location': '/greyatom-demo',\n",
       " 'ResponseMetadata': {'HTTPHeaders': {'content-length': '0',\n",
       "   'date': 'Sat, 09 Sep 2017 19:44:57 GMT',\n",
       "   'location': '/greyatom-demo',\n",
       "   'server': 'AmazonS3',\n",
       "   'x-amz-id-2': 'Aodegn6SUaqX/McWWTT5WeOAS22RQcn2Z6N1kktmKcSXzB01CqAeoY2xqsP0C3wo+j44MiFpgYo=',\n",
       "   'x-amz-request-id': '0E895C25E6615118'},\n",
       "  'HTTPStatusCode': 200,\n",
       "  'HostId': 'Aodegn6SUaqX/McWWTT5WeOAS22RQcn2Z6N1kktmKcSXzB01CqAeoY2xqsP0C3wo+j44MiFpgYo=',\n",
       "  'RequestId': '0E895C25E6615118',\n",
       "  'RetryAttempts': 0}}"
      ]
     },
     "execution_count": 38,
     "metadata": {},
     "output_type": "execute_result"
    }
   ],
   "source": [
    "s3.create_bucket(Bucket='greyatom-demo')"
   ]
  },
  {
   "cell_type": "markdown",
   "metadata": {},
   "source": [
    "Checking in the S3 dashboard we have successfully created the `greyatom-demo` bucket.\n",
    "\n",
    "![]()"
   ]
  },
  {
   "cell_type": "markdown",
   "metadata": {},
   "source": [
    "### 5. Uploading file to a bucket specified"
   ]
  },
  {
   "cell_type": "code",
   "execution_count": 17,
   "metadata": {},
   "outputs": [
    {
     "name": "stdout",
     "output_type": "stream",
     "text": [
      "test_table.csv\tuser_table.csv\r\n"
     ]
    }
   ],
   "source": [
    "!ls ./data/"
   ]
  },
  {
   "cell_type": "markdown",
   "metadata": {},
   "source": [
    "- We'll list the buckets we have:"
   ]
  },
  {
   "cell_type": "code",
   "execution_count": 18,
   "metadata": {},
   "outputs": [
    {
     "name": "stdout",
     "output_type": "stream",
     "text": [
      "The list of buckets:['greyatom-demo', 'lambda-test-dev-serverlessdeploymentbucket-1cwwgbpniigsx']\n"
     ]
    }
   ],
   "source": [
    "response = s3.list_buckets()\n",
    "bucketlist = [resp.get('Name') for resp in response.get('Buckets')]\n",
    "print(\"The list of buckets:{}\".format(bucketlist))"
   ]
  },
  {
   "cell_type": "markdown",
   "metadata": {},
   "source": [
    "We'll put both the .csv files in the `greyatom-demo` bucket."
   ]
  },
  {
   "cell_type": "code",
   "execution_count": 31,
   "metadata": {
    "collapsed": true
   },
   "outputs": [],
   "source": [
    "import glob\n",
    "import re\n",
    "filenames = glob.glob('./data/*.csv')"
   ]
  },
  {
   "cell_type": "code",
   "execution_count": 26,
   "metadata": {},
   "outputs": [
    {
     "data": {
      "text/plain": [
       "['./data/test_table.csv', './data/user_table.csv']"
      ]
     },
     "execution_count": 26,
     "metadata": {},
     "output_type": "execute_result"
    }
   ],
   "source": [
    "filenames"
   ]
  },
  {
   "cell_type": "code",
   "execution_count": 27,
   "metadata": {
    "collapsed": true
   },
   "outputs": [],
   "source": [
    "bucket_name = 'greyatom-demo'"
   ]
  },
  {
   "cell_type": "code",
   "execution_count": 35,
   "metadata": {},
   "outputs": [
    {
     "name": "stdout",
     "output_type": "stream",
     "text": [
      "Uploading file: test_table.csv\n",
      "Response: None\n",
      "Uploading file: user_table.csv\n",
      "Response: None\n"
     ]
    }
   ],
   "source": [
    "for file in filenames:\n",
    "    filename = re.split(r'/', file)\n",
    "    print(\"Uploading file: {}\".format(filename[len(filename)-1]))\n",
    "    s3.upload_file(file, bucket_name, filename[len(filename)-1])"
   ]
  },
  {
   "cell_type": "markdown",
   "metadata": {},
   "source": [
    "### 6. List all the files in a bucket"
   ]
  },
  {
   "cell_type": "code",
   "execution_count": 19,
   "metadata": {
    "collapsed": true
   },
   "outputs": [],
   "source": [
    "bucket_name = 'greyatom-demo'"
   ]
  },
  {
   "cell_type": "code",
   "execution_count": 20,
   "metadata": {},
   "outputs": [
    {
     "name": "stdout",
     "output_type": "stream",
     "text": [
      "./data/test_table.csv\n",
      "./data/user_table.csv\n",
      "daily-minimum-temperatures.csv\n",
      "test_table.csv\n",
      "user_table.csv\n"
     ]
    }
   ],
   "source": [
    "s3_resource = boto3.resource('s3')\n",
    "\n",
    "my_bucket = s3_resource.Bucket(bucket_name)\n",
    "\n",
    "for obj in my_bucket.objects.all():\n",
    "    print(obj.key)"
   ]
  },
  {
   "cell_type": "markdown",
   "metadata": {},
   "source": [
    "### 7. Downloading a file from the bucket\n",
    "\n",
    "The example below tries to download an S3 object to a file. If the service returns a 404 error, it prints an error message indicating that the object doesn't exist."
   ]
  },
  {
   "cell_type": "code",
   "execution_count": 53,
   "metadata": {
    "collapsed": true
   },
   "outputs": [],
   "source": [
    "bucket_name = 'greyatom-demo'\n",
    "key = 'daily-minimum-temperatures.csv'\n",
    "\n",
    "s3 = boto3.resource('s3')\n",
    "\n",
    "try:\n",
    "    s3.Bucket(bucket_name).download_file(key, './min_daily_temp.csv')\n",
    "except botocore.exceptions.ClientError as e:\n",
    "    if e.response['Error']['Code'] == \"404\":\n",
    "        print(\"The object does not exist.\")\n",
    "    else:\n",
    "        raise"
   ]
  },
  {
   "cell_type": "code",
   "execution_count": 55,
   "metadata": {},
   "outputs": [
    {
     "name": "stdout",
     "output_type": "stream",
     "text": [
      "data  day28_aws_boto3_demo.ipynb  images  min_daily_temp.csv\r\n"
     ]
    }
   ],
   "source": [
    "!ls ./"
   ]
  },
  {
   "cell_type": "markdown",
   "metadata": {},
   "source": [
    "### 8. Deleting an S3 bucket\n",
    "\n",
    "We need to delete all the `keys` (everything saved in the bucket) before the `S3` bucket itself can be deleted."
   ]
  },
  {
   "cell_type": "code",
   "execution_count": 21,
   "metadata": {
    "collapsed": true
   },
   "outputs": [],
   "source": [
    "bucket_name = 'greyatom-demo'"
   ]
  },
  {
   "cell_type": "code",
   "execution_count": 22,
   "metadata": {
    "collapsed": true
   },
   "outputs": [],
   "source": [
    "bucket = s3_resource.Bucket(bucket_name)"
   ]
  },
  {
   "cell_type": "code",
   "execution_count": 23,
   "metadata": {},
   "outputs": [
    {
     "name": "stdout",
     "output_type": "stream",
     "text": [
      "s3.ObjectSummary(bucket_name='greyatom-demo', key=u'./data/test_table.csv') deleted...\n",
      "s3.ObjectSummary(bucket_name='greyatom-demo', key=u'./data/user_table.csv') deleted...\n",
      "s3.ObjectSummary(bucket_name='greyatom-demo', key=u'daily-minimum-temperatures.csv') deleted...\n",
      "s3.ObjectSummary(bucket_name='greyatom-demo', key=u'test_table.csv') deleted...\n",
      "s3.ObjectSummary(bucket_name='greyatom-demo', key=u'user_table.csv') deleted...\n"
     ]
    },
    {
     "data": {
      "text/plain": [
       "{'ResponseMetadata': {'HTTPHeaders': {'date': 'Sun, 10 Sep 2017 08:30:53 GMT',\n",
       "   'server': 'AmazonS3',\n",
       "   'x-amz-id-2': 'u33q7yMsT2ddoQvee/aauxO/Fq9OZwN1zqOzPNwIdnU91W0opybLnZvkAUQFQerNd/V2LOgxTNo=',\n",
       "   'x-amz-request-id': 'E18C44C76BB99876'},\n",
       "  'HTTPStatusCode': 204,\n",
       "  'HostId': 'u33q7yMsT2ddoQvee/aauxO/Fq9OZwN1zqOzPNwIdnU91W0opybLnZvkAUQFQerNd/V2LOgxTNo=',\n",
       "  'RequestId': 'E18C44C76BB99876',\n",
       "  'RetryAttempts': 0}}"
      ]
     },
     "execution_count": 23,
     "metadata": {},
     "output_type": "execute_result"
    }
   ],
   "source": [
    "for key in bucket.objects.all():\n",
    "    key.delete()\n",
    "    print(\"{} deleted...\".format(key))\n",
    "\n",
    "bucket.delete()"
   ]
  },
  {
   "cell_type": "markdown",
   "metadata": {},
   "source": [
    "Listing the buckets to confirm, whether it was really deleted"
   ]
  },
  {
   "cell_type": "code",
   "execution_count": 24,
   "metadata": {},
   "outputs": [
    {
     "name": "stdout",
     "output_type": "stream",
     "text": [
      "The list of buckets:['lambda-test-dev-serverlessdeploymentbucket-1cwwgbpniigsx']\n"
     ]
    }
   ],
   "source": [
    "response = s3.list_buckets()\n",
    "bucketlist = [resp.get('Name') for resp in response.get('Buckets')]\n",
    "print(\"The list of buckets:{}\".format(bucketlist))"
   ]
  },
  {
   "cell_type": "markdown",
   "metadata": {},
   "source": [
    "Success!"
   ]
  }
 ],
 "metadata": {
  "kernelspec": {
   "display_name": "Python 2",
   "language": "python",
   "name": "python2"
  },
  "language_info": {
   "codemirror_mode": {
    "name": "ipython",
    "version": 2
   },
   "file_extension": ".py",
   "mimetype": "text/x-python",
   "name": "python",
   "nbconvert_exporter": "python",
   "pygments_lexer": "ipython2",
   "version": "2.7.13"
  },
  "widgets": {
   "state": {},
   "version": "1.1.2"
  }
 },
 "nbformat": 4,
 "nbformat_minor": 2
}
